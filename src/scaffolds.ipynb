{
  "nbformat": 4,
  "nbformat_minor": 0,
  "metadata": {
    "colab": {
      "provenance": []
    },
    "kernelspec": {
      "name": "python3",
      "display_name": "Python 3"
    },
    "language_info": {
      "name": "python"
    }
  },
  "cells": [
    {
      "cell_type": "markdown",
      "source": [
        "# Считаем количество скаффолдов и длину максимального скаффолда"
      ],
      "metadata": {
        "id": "uAwDEUG9ayNw"
      }
    },
    {
      "cell_type": "code",
      "execution_count": 5,
      "metadata": {
        "id": "KsX2OLMQaVAu"
      },
      "outputs": [],
      "source": [
        "# функция для анализа \n",
        "# возвращает либо максимальную последовательность, либо общую информацию для печати\n",
        "def analysis(file, title, return_max_seq=False):\n",
        "    # ищем длины, максимальную длину, максимальную последовательность и т.д.\n",
        "    n50 = total_len = max_len = length = count = score = 0 \n",
        "    max_seq = ''\n",
        "    curr_seq = ''\n",
        "    all_lengths = []\n",
        "    \n",
        "    for line in file:\n",
        "        if line[0] == '>':\n",
        "            if count != 0:\n",
        "                all_lengths.append(length)\n",
        "            count += 1\n",
        "            if length >= max_len:\n",
        "                max_len = length\n",
        "                max_seq = curr_seq\n",
        "            curr_seq = ''\n",
        "            length = 0\n",
        "        else:\n",
        "            curr_seq += line.strip()\n",
        "            length += len(line.strip())\n",
        "            total_len += len(line.strip())\n",
        "    \n",
        "    # сортируем по убыванию, чтобы найти N50\n",
        "    all_lengths.sort(reverse=True) \n",
        "     \n",
        "    # ждем, пока текущая сумма станет не менее половины общей длины \n",
        "    for l in all_lengths:\n",
        "        score += l\n",
        "        if score >= total_len / 2:\n",
        "          n50 = l\n",
        "          break\n",
        "\n",
        "    if return_max_seq:\n",
        "      return max_seq\n",
        "\n",
        "    return title, count, total_len, max_len, n50\n",
        "\n",
        "# функция, печатающая информацию\n",
        "def print_information(info):\n",
        "  print(f'{info[0]}')\n",
        "  print(f'Общее количество: {info[1]},')\n",
        "  print(f'Общая длина: {info[2]},')\n",
        "  print(f'Максимальная длина: {info[3]},')\n",
        "  print(f'N50: {info[4]}')\n",
        "  \n",
        "# функция, записывающая максимальную последовательность в файл\n",
        "def get_file(max_seq, file_name):\n",
        "  f = open(file_name, \"w\")\n",
        "  f.write(max_seq)\n",
        "  f.close()"
      ]
    },
    {
      "cell_type": "code",
      "source": [
        "# загружаем файл с закрытыми гэпами\n",
        "!wget https://raw.githubusercontent.com/XeniaMishina/hse22_hw2/main/data/scaffolds.fa"
      ],
      "metadata": {
        "colab": {
          "base_uri": "https://localhost:8080/"
        },
        "id": "DUUP9KqDahS8",
        "outputId": "07aac72a-7103-4e03-ee39-1f26462c862a"
      },
      "execution_count": 2,
      "outputs": [
        {
          "output_type": "stream",
          "name": "stdout",
          "text": [
            "--2022-10-17 19:29:15--  https://raw.githubusercontent.com/XeniaMishina/hse22_hw2/main/data/scaffolds.fa\n",
            "Resolving raw.githubusercontent.com (raw.githubusercontent.com)... 185.199.108.133, 185.199.109.133, 185.199.110.133, ...\n",
            "Connecting to raw.githubusercontent.com (raw.githubusercontent.com)|185.199.108.133|:443... connected.\n",
            "HTTP request sent, awaiting response... 200 OK\n",
            "Length: 3964711 (3.8M) [text/plain]\n",
            "Saving to: ‘scaffolds.fa.1’\n",
            "\n",
            "\rscaffolds.fa.1        0%[                    ]       0  --.-KB/s               \rscaffolds.fa.1      100%[===================>]   3.78M  --.-KB/s    in 0.03s   \n",
            "\n",
            "2022-10-17 19:29:15 (131 MB/s) - ‘scaffolds.fa.1’ saved [3964711/3964711]\n",
            "\n"
          ]
        }
      ]
    },
    {
      "cell_type": "code",
      "source": [
        "print_information(analysis(open(\"scaffolds.fa\", \"r\"), \"Анализ скаффолдов\"))"
      ],
      "metadata": {
        "colab": {
          "base_uri": "https://localhost:8080/"
        },
        "id": "NrdoDAeCagTj",
        "outputId": "71345081-f468-4c45-9d87-8998875d6ed9"
      },
      "execution_count": 6,
      "outputs": [
        {
          "output_type": "stream",
          "name": "stdout",
          "text": [
            "Анализ скаффолдов\n",
            "Общее количество: 67,\n",
            "Общая длина: 3914468,\n",
            "Максимальная длина: 3875016,\n",
            "N50: 3875016\n"
          ]
        }
      ]
    }
  ]
}